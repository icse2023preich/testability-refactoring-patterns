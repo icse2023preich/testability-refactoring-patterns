{
 "cells": [
  {
   "cell_type": "code",
   "execution_count": 1,
   "metadata": {},
   "outputs": [],
   "source": [
    "from io import BytesIO\n",
    "import requests\n",
    "import pandas as pd\n",
    "from utils import *\n",
    "import os"
   ]
  },
  {
   "cell_type": "code",
   "execution_count": 2,
   "metadata": {},
   "outputs": [],
   "source": [
    "def cache_import_csv_from_url(url, fname, header='infer'):\n",
    "    if os.path.isfile(fname):\n",
    "        return pd.read_csv(fname,header=header)\n",
    "    else:\n",
    "        df=import_csv_from_url(url, header=header)\n",
    "        df.to_csv(fname)\n",
    "        return df"
   ]
  },
  {
   "cell_type": "code",
   "execution_count": 3,
   "metadata": {},
   "outputs": [
    {
     "name": "stdout",
     "output_type": "stream",
     "text": [
      "CPU times: user 19.8 ms, sys: 3 ms, total: 22.8 ms\n",
      "Wall time: 21.8 ms\n"
     ]
    }
   ],
   "source": [
    "%%time\n",
    "# urls to google docs will be kept secret until publication in order to protect identity.\n",
    "pr50=cache_import_csv_from_url('https://docs.google.com/spreadsheets/d/anonymised/exportFormat=csv', 'pr150.csv')\n",
    "pr130=cache_import_csv_from_url('https://docs.google.com/spreadsheets/d/anonymised/exportFormat=csv','pr130.csv')\n",
    "pr11=cache_import_csv_from_url('https://docs.google.com/spreadsheets/d/anonymised/exportFormat=csv','pr11.csv')\n",
    "pr11['source']='pr11'\n",
    "pr11['title_mask']='testability'\n",
    "pr50['source']='pr50'\n",
    "pr130['source']='pr130'\n",
    "pr180=pr50.append(pr130, sort=False)\n",
    "pr180['title_mask']='testability_body'\n",
    "\n",
    "pr180=pr180.append(pr11, sort=False)\n",
    "pr180['reviewer']='Reviewer1'\n",
    "pr180.loc[pr180['ref_pattern']=='irrelevant','pr_group']='irrelevant'\n"
   ]
  },
  {
   "cell_type": "code",
   "execution_count": 4,
   "metadata": {},
   "outputs": [
    {
     "name": "stdout",
     "output_type": "stream",
     "text": [
      "606\n"
     ]
    }
   ],
   "source": [
    "manually_reviewed1=pd.read_csv('manually_reviewed.csv')\n",
    "manually_reviewed1['reviewer']='Reviewer1'\n",
    "manually_reviewed1['source']='manually_reviewed.csv'\n",
    "print(len(set(manually_reviewed1.url)))"
   ]
  },
  {
   "cell_type": "code",
   "execution_count": 5,
   "metadata": {},
   "outputs": [
    {
     "name": "stdout",
     "output_type": "stream",
     "text": [
      "320\n"
     ]
    }
   ],
   "source": [
    "manually_reviewed3=cache_import_csv_from_url('https://docs.google.com/spreadsheets/d/anonymised/exportFormat=csv','manually_reviewed3.csv')\n",
    "manually_reviewed3=manually_reviewed3[manually_reviewed3.reviewer!='example']\n",
    "manually_reviewed3['source']='externally_reviewed_PRs.csv'\n",
    "print(len(set(manually_reviewed3.url)))\n"
   ]
  },
  {
   "cell_type": "code",
   "execution_count": 6,
   "metadata": {},
   "outputs": [
    {
     "name": "stdout",
     "output_type": "stream",
     "text": [
      "CPU times: user 43.5 s, sys: 3.97 s, total: 47.4 s\n",
      "Wall time: 47.9 s\n"
     ]
    }
   ],
   "source": [
    "%%time\n",
    "all_prs_with_files=pd.read_csv('all_prs_with_files.csv')\n",
    "all_prs=generate_all_prs(all_prs_with_files)\n",
    "all_prs['selected']='Other'\n",
    "all_prs.loc[(all_prs['test_pairs'] > 0) & (all_prs['changed_files'] < 10),'selected']='small_with_tpairs'\n",
    "all_prs.loc[~(all_prs['test_pairs'] > 0) & (all_prs['changed_files'] < 10),'selected']='small_without_tpairs'\n",
    "all_prs.loc[(all_prs['test_pairs'] > 0) & ~(all_prs['changed_files'] < 10),'selected']='large_with_tpairs'\n",
    "all_prs.loc[~(all_prs['test_pairs'] > 0) & ~(all_prs['changed_files'] < 10),'selected']='large_without_tpairs'\n",
    "all_prs['churn']=all_prs['prod_additions']+all_prs['prod_deletions']+all_prs['test_additions']+all_prs['test_deletions']\n",
    "all_prs[all_prs.selected.isin(['small_with_tpairs','large_with_tpairs'])][['churn','changed_files','test_pairs']].quantile([0.1,0.5,0.6,0.62,0.9])\n",
    "all_prs['title_mask']=all_prs.title.apply(lambda x: is_testability_relevant(x)[1])\n"
   ]
  },
  {
   "cell_type": "code",
   "execution_count": 7,
   "metadata": {},
   "outputs": [
    {
     "name": "stdout",
     "output_type": "stream",
     "text": [
      "764\n",
      "764\n"
     ]
    }
   ],
   "source": [
    "manually_reviewed_cols=['url','prod_file','pr_group','ref_pattern','reviewer','test_location','source']\n",
    "manually_reviewed1=manually_reviewed1[~manually_reviewed1.url.isin(manually_reviewed3.url)][manually_reviewed_cols]\n",
    "manually_reviewed=manually_reviewed3[manually_reviewed_cols].append(manually_reviewed1)\n",
    "manually_reviewed['url']=manually_reviewed['url'].apply(normalise_url)\n",
    "print(len(set(manually_reviewed.url)))\n",
    "manually_reviewed=manually_reviewed.merge(all_prs[['url','title_mask','selected']].drop_duplicates())\n",
    "print(len(set(manually_reviewed.url)))\n",
    "manually_reviewed['testability_meaning']=None"
   ]
  },
  {
   "cell_type": "code",
   "execution_count": 8,
   "metadata": {},
   "outputs": [],
   "source": [
    "manually_reviewed.loc[manually_reviewed.pr_group=='irrelevant','ref_pattern']='irrelevant'"
   ]
  },
  {
   "cell_type": "code",
   "execution_count": 9,
   "metadata": {},
   "outputs": [
    {
     "data": {
      "text/plain": [
       "955"
      ]
     },
     "execution_count": 9,
     "metadata": {},
     "output_type": "execute_result"
    }
   ],
   "source": [
    "cols=['url','title_mask','pr_group','ref_pattern','prod_file','test_location','source','reviewer']\n",
    "reviewed=(pr180[cols].append(manually_reviewed[cols])).drop_duplicates()\n",
    "len(set(reviewed.url))"
   ]
  },
  {
   "cell_type": "code",
   "execution_count": 10,
   "metadata": {},
   "outputs": [
    {
     "name": "stdout",
     "output_type": "stream",
     "text": [
      "CPU times: user 11 ms, sys: 1.63 ms, total: 12.7 ms\n",
      "Wall time: 13.5 ms\n"
     ]
    }
   ],
   "source": [
    "%%time\n",
    "hiwi1=cache_import_csv_from_url('https://docs.google.com/spreadsheets/d/anonymised/exportFormat=csv','hiwi1.csv',header=[1])\n",
    "hiwi1['reviewer']='Reviewer2'\n",
    "hiwi1['source']='hiwi1'\n",
    "hiwi2=cache_import_csv_from_url('https://docs.google.com/spreadsheets/d/anonymised/exportFormat=csv','hiwi2.csv')\n",
    "hiwi2['reviewer']='Reviewer3'\n",
    "hiwi2['source']='hiwi2'\n",
    "hiwi3=cache_import_csv_from_url('https://docs.google.com/spreadsheets/d/anonymised/exportFormat=csv','hiwi3.csv')\n",
    "hiwi3['reviewer']='Reviewer3'\n",
    "hiwi3['source']='hiwi3'"
   ]
  },
  {
   "cell_type": "code",
   "execution_count": 11,
   "metadata": {},
   "outputs": [],
   "source": [
    "urls={'https://docs.google.com/spreadsheets/d/anonymised/edit#gid=1231948719':'aug2022_test.csv',\n",
    "     'https://docs.google.com/spreadsheets/d/anonymised/edit#gid=1472634510':'aug2022_Other.csv',\n",
    "     'https://docs.google.com/spreadsheets/d/anonymised/edit#gid=780422865':'16aug2022_Other.csv',\n",
    "     'https://docs.google.com/spreadsheets/d/anonymised/edit#gid=1913656730':'16aug2022_test.csv',\n",
    "     'https://docs.google.com/spreadsheets/d/anonymised/edit#gid=0':'17aug2022_mixed.csv'}\n",
    "hiwi_aug2022=pd.DataFrame()\n",
    "for url,fname in urls.items():\n",
    "    df=cache_import_csv_from_url(url.replace('/edit','/export?exportFormat=csv'), fname)\n",
    "    hiwi_aug2022=hiwi_aug2022.append(df)"
   ]
  },
  {
   "cell_type": "code",
   "execution_count": 12,
   "metadata": {},
   "outputs": [],
   "source": [
    "hiwi_aug2022=hiwi_aug2022[hiwi_aug2022['Coder'].notnull()]"
   ]
  },
  {
   "cell_type": "code",
   "execution_count": 13,
   "metadata": {},
   "outputs": [],
   "source": [
    "hiwi_aug2022['reviewer']=hiwi_aug2022['Coder'].apply(lambda x: 'Reviewer3' if 'TPu' in x else 'Reviewer4')\n",
    "hiwi_aug2022['source']='aug2022'\n",
    "hiwi_aug2022=hiwi_aug2022.drop(columns='Coder')"
   ]
  },
  {
   "cell_type": "code",
   "execution_count": 14,
   "metadata": {},
   "outputs": [],
   "source": [
    "\n",
    "hiwi=hiwi1.append(hiwi2,sort=False)\n",
    "hiwi=hiwi.append(hiwi3,sort=False)\n",
    "hiwi['url']=hiwi['url'].apply(derive_url)\n",
    "hiwi=hiwi[hiwi['url']!='https://github.com/azkaban/azkaban/pull/1765']\n",
    "hiwi=hiwi[hiwi.pr_group.notnull()]\n",
    "hiwi=hiwi.append(hiwi_aug2022)"
   ]
  },
  {
   "cell_type": "code",
   "execution_count": 15,
   "metadata": {},
   "outputs": [],
   "source": [
    "secondary_aug2022=cache_import_csv_from_url(\n",
    "    'https://docs.google.com/spreadsheets/d/anonymised/exportFormat=csv', 'secondary_aug2022.csv')\n",
    "secondary_aug2022['period']='August 2022'\n",
    "secondary_aug2022['reviewer']='Reviewer1'\n"
   ]
  },
  {
   "cell_type": "code",
   "execution_count": 16,
   "metadata": {},
   "outputs": [],
   "source": [
    "primary=manually_reviewed3[manually_reviewed3.reviewer!='Reviewer1']\\\n",
    "    [['url','orig_pr_group','orig_ref_pattern','test_location','reviewer']].\\\n",
    "    rename(columns={'orig_pr_group':'pr_group','orig_ref_pattern':'ref_pattern'})\n",
    "primary['period']='January'\n",
    "secondary=manually_reviewed3[manually_reviewed3.reviewer!='Reviewer1']\\\n",
    "    [['url','pr_group','ref_pattern','test_location','reviewer']]\n",
    "secondary['period']='January'\n",
    "secondary['reviewer']='Reviewer1'\n",
    "secondary=secondary.append(secondary_aug2022)\n",
    "primary['url']=primary['url'].apply(derive_url)\n",
    "secondary['url']=secondary['url'].apply(derive_url)\n",
    "august=reviewed[(reviewed.reviewer=='Reviewer1') & (reviewed.url.isin(hiwi.url))][['url','pr_group','ref_pattern','test_location','reviewer']]\n",
    "august['period']='August'\n",
    "primary=primary.append(august, sort=True)\n",
    "s_august=hiwi[hiwi.url.isin(august.url)][['url','orig_pr_group','orig_ref_pattern','pr_group','ref_pattern','test_location','reviewer','comment','fauthor_comment']]\n",
    "# take orig_pr_group or pr_group\n",
    "s_august.loc[s_august.orig_pr_group.notnull(),'pr_group']=s_august[s_august.orig_pr_group.notnull()]['orig_pr_group']\n",
    "s_august.loc[s_august.orig_ref_pattern.notnull(),'ref_pattern']=s_august[s_august.orig_ref_pattern.notnull()]['orig_ref_pattern']\n",
    "s_august['period']='August'\n",
    "s_august=s_august.drop(columns=['orig_pr_group','orig_ref_pattern'])\n",
    "secondary=secondary.append(s_august,sort=True)\n",
    "primary.loc[primary.pr_group=='irrelevant','ref_pattern']='irrelevant'\n",
    "secondary.loc[secondary.pr_group=='irrelevant','ref_pattern']='irrelevant'\n",
    "primary['reviewer']=primary['reviewer'].apply(derive_reviewer_id)\n",
    "secondary['reviewer']=secondary['reviewer'].apply(derive_reviewer_id)\n",
    "primary.to_csv('primary_reviewed.csv',index=False)\n",
    "secondary.to_csv('secondary_reviewed.csv',index=False)"
   ]
  },
  {
   "cell_type": "code",
   "execution_count": 17,
   "metadata": {},
   "outputs": [],
   "source": [
    "sel=hiwi[hiwi.pr_group.notnull()]\n",
    "sel=sel[~((sel.fauthor_comment.notnull()) & (sel['pavels_comment'].str.contains('take-mine')))]\n",
    "sel['url']=sel['url'].apply(derive_url)\n",
    "freviewed=reviewed[~reviewed.url.isin(sel.url)]\n",
    "freviewed=freviewed.append(sel[cols],sort=False)\n",
    "freviewed['reviewer']=freviewed['reviewer'].apply(derive_reviewer_id)\n",
    "mask_by_url=freviewed[freviewed.title_mask.notnull()][['url','title_mask']].drop_duplicates()\n",
    "freviewed=freviewed.merge(mask_by_url, on='url', suffixes=['_orig','_derived'])\n",
    "freviewed.loc[freviewed.title_mask_orig.isnull(),'title_mask_orig']=\\\n",
    "    freviewed[freviewed.title_mask_orig.isnull()]['title_mask_derived']\n",
    "freviewed=freviewed.rename(columns={'title_mask_orig':'title_mask'}).drop(columns=['title_mask_derived'])\n",
    "freviewed=freviewed[~((freviewed.pr_group!='irrelevant') & (freviewed.ref_pattern=='irrelevant'))]\n",
    "freviewed.to_csv('reviewed.csv',index=False)"
   ]
  }
 ],
 "metadata": {
  "kernelspec": {
   "display_name": "Python 3 (ipykernel)",
   "language": "python",
   "name": "python3"
  },
  "language_info": {
   "codemirror_mode": {
    "name": "ipython",
    "version": 3
   },
   "file_extension": ".py",
   "mimetype": "text/x-python",
   "name": "python",
   "nbconvert_exporter": "python",
   "pygments_lexer": "ipython3",
   "version": "3.8.12"
  }
 },
 "nbformat": 4,
 "nbformat_minor": 2
}
